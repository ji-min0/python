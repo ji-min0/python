{
 "cells": [
  {
   "cell_type": "markdown",
   "id": "b7cedd33",
   "metadata": {},
   "source": [
    "# 🎮 미니 실습: 숫자 맞추기 게임"
   ]
  },
  {
   "cell_type": "code",
   "execution_count": 7,
   "id": "7305d92a",
   "metadata": {},
   "outputs": [
    {
     "name": "stdout",
     "output_type": "stream",
     "text": [
      "🔢 숫자 맞추기 게임 🙄\n",
      "틀렸습니다. 4 보다 더 작은 숫자를 입력해주세요! 👎🏻\n",
      "틀렸습니다. 1 보다 더 큰 숫자를 입력해주세요! 👍🏻\n",
      "틀렸습니다. 3 보다 더 작은 숫자를 입력해주세요! 👎🏻\n",
      "👏🏻 대단해요! 정답은 2였습니다.\n",
      "총 4의 시도 만에 맞췄어요!😎\n",
      "\n",
      " 게임이 끝났습니다. 👋🏻\n"
     ]
    }
   ],
   "source": [
    "# 난수 생성\n",
    "import random\n",
    "\n",
    "# 시작 문구\n",
    "print(\"🔢 숫자 맞추기 게임 🙄\")\n",
    "\n",
    "# 1부터 10까지 숫자 중에 랜덤 선택\n",
    "answer_number = random.randint(1, 10)\n",
    "\n",
    "# 시도 횟수\n",
    "tries = 0\n",
    "\n",
    "# 맞출 때까지 반복\n",
    "while True:\n",
    "    user_number = int(input(\"1~10 사이의 숫자 중에 맞춰주세요 🧐\"))\n",
    "    tries += 1\n",
    "\n",
    "\n",
    "\n",
    "    # 맞췄을 때\n",
    "    if user_number == answer_number:\n",
    "        print(f\"👏🏻 대단해요! 정답은 {answer_number}였습니다.\")\n",
    "        print(f\"총 {tries}의 시도 만에 맞췄어요!😎\")\n",
    "        break\n",
    "\n",
    "    # 입력한 숫자가 정답 숫자보다 작을 때\n",
    "    elif user_number < answer_number:\n",
    "        print(f\"틀렸습니다. {user_number} 보다 더 큰 숫자를 입력해주세요! 👍🏻\")\n",
    "\n",
    "    # 입력한 숫자가 정답 숫자보다 클 때\n",
    "    else:\n",
    "        print(f\"틀렸습니다. {user_number} 보다 더 작은 숫자를 입력해주세요! 👎🏻\")\n",
    "\n",
    "# 게임 종료\n",
    "print(\"\\n 게임이 끝났습니다. 👋🏻\")"
   ]
  }
 ],
 "metadata": {
  "kernelspec": {
   "display_name": "Python 3",
   "language": "python",
   "name": "python3"
  },
  "language_info": {
   "codemirror_mode": {
    "name": "ipython",
    "version": 3
   },
   "file_extension": ".py",
   "mimetype": "text/x-python",
   "name": "python",
   "nbconvert_exporter": "python",
   "pygments_lexer": "ipython3",
   "version": "3.9.6"
  }
 },
 "nbformat": 4,
 "nbformat_minor": 5
}
