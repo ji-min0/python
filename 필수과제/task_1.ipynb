{
 "cells": [
  {
   "cell_type": "markdown",
   "metadata": {},
   "source": [
    "안녕하세요. 수강생 여러분~! Chapter33 ~ 41 수업은 잘 들으셨나요?\n",
    "\n",
    "Chapter33 ~ 41의 수업 내용을 바탕으로 아래 문제를 풀어주시면 됩니다.\n",
    "\n",
    "\n",
    "<br>\n",
    "\n",
    "\n",
    "[**답변 입력 방법**]\n",
    "\n",
    "문제 아래에 있는 코드 입력창에 정답코드를 작성하신 후  __▷ 버튼을 클릭해 코드를 실행__ 해보세요<br>"
   ]
  },
  {
   "cell_type": "markdown",
   "metadata": {},
   "source": [
    "---"
   ]
  },
  {
   "cell_type": "markdown",
   "metadata": {},
   "source": [
    "[문제 1]\n",
    "\n",
    "사용자로부터 두 개의 숫자를 입력받아 나눗셈을 수행하는 프로그램을 작성하세요. \n",
    "\n",
    "[예외처리]\n",
    "- 입력 값이 숫자가 아닐 때 발생할 수 있는 ValueError\n",
    "- 나누는 수가 0일 때 발생할 수 있는 ZeroDivisionError\n",
    "- 위 2가지 예외처리 후 사용자에게 이해하기 쉬운 메시지 작성 후 출력되도록 코드를 작성"
   ]
  },
  {
   "cell_type": "code",
   "execution_count": 7,
   "metadata": {},
   "outputs": [
    {
     "name": "stdout",
     "output_type": "stream",
     "text": [
      "결과: 2.0\n"
     ]
    }
   ],
   "source": [
    "try:\n",
    "    a = int(input(\"피제수(dividend)를 입력하세요: \"))\n",
    "    b = int(input(\"제수(divisor)를 입력하세요: \"))\n",
    "    result = a / b\n",
    "except ValueError: \n",
    "    print(\"숫자가 아닙니다.\")\n",
    "except ZeroDivisionError: \n",
    "    print(\"0으로 나눌 수 없습니다.\")\n",
    "else: \n",
    "    print(\"결과:\", result)\n"
   ]
  },
  {
   "cell_type": "markdown",
   "metadata": {},
   "source": [
    "---"
   ]
  },
  {
   "cell_type": "markdown",
   "metadata": {},
   "source": [
    "[문제 2]\n",
    "\n",
    "파일을 읽어서 내용을 출력하는 프로그램을 작성하세요. \n",
    "\n",
    "- 파일이 존재하지 않을 때 발생하는 FileNotFoundError를 처리\n",
    "- 파일이 존재하지 않을 경우 \"파일을 찾을 수 없습니다.\"라는 메시지를 출력"
   ]
  },
  {
   "cell_type": "code",
   "execution_count": 2,
   "metadata": {},
   "outputs": [
    {
     "name": "stdout",
     "output_type": "stream",
     "text": [
      "파일을 찾을 수 없습니다.\n"
     ]
    }
   ],
   "source": [
    "try:\n",
    "    with open('file1.txt', 'r') as f:\n",
    "        print(f.read())\n",
    "except FileNotFoundError: \n",
    "    print(\"파일을 찾을 수 없습니다.\")"
   ]
  },
  {
   "cell_type": "markdown",
   "metadata": {},
   "source": [
    "---"
   ]
  },
  {
   "cell_type": "markdown",
   "metadata": {},
   "source": [
    "[문제 3]\n",
    "\n",
    "사용자로부터 여러 개의 숫자를 입력받아 리스트에 저장한 후, 사용자가 'done'이라고 입력할 때까지 계속 입력받으세요. \n",
    "\n",
    "- 입력 중 숫자가 아닌 값이 입력되면 ValueError를 처리\n",
    "- 숫자 외 값이 입력된 경우 어떤 값이 잘못 입력되었는지 사용자에게 알려주는 문구 출력<br>\n",
    "  (예: f\"잘못된 값: {변수}. 숫자를 입력해주세요.\")\n",
    "\n"
   ]
  },
  {
   "cell_type": "code",
   "execution_count": 5,
   "metadata": {},
   "outputs": [
    {
     "name": "stdout",
     "output_type": "stream",
     "text": [
      "잘못된 값: a. 숫자를 입력해주세요.\n"
     ]
    }
   ],
   "source": [
    "numbers = []\n",
    "\n",
    "while True:\n",
    "    try: \n",
    "        num = input(\"숫자를 입력하세요 ('done' 입력 시 종료): \")\n",
    "        if num == 'done':\n",
    "            break\n",
    "        numbers.append(int(num))\n",
    "    except ValueError:\n",
    "        print(f\"잘못된 값: {num}. 숫자를 입력해주세요.\")"
   ]
  },
  {
   "cell_type": "markdown",
   "metadata": {},
   "source": [
    "---"
   ]
  },
  {
   "cell_type": "markdown",
   "metadata": {},
   "source": [
    "[문제 4]\n",
    "\n",
    "사용자 정의 예외 NegativeNumberError를 생성하고, 사용자로부터 숫자를 입력받아 음수일 경우 NegativeNumberError를 발생시키는 프로그램을 작성하세요. \n",
    "\n",
    "- 예외 처리 구문을 사용하여 음수 입력 시 \"양수를 입력해주세요.\"라는 메시지를 출력"
   ]
  },
  {
   "cell_type": "code",
   "execution_count": 7,
   "metadata": {},
   "outputs": [
    {
     "name": "stdout",
     "output_type": "stream",
     "text": [
      "입력한 숫자: 1\n"
     ]
    }
   ],
   "source": [
    "class NegativeNumberError(Exception):\n",
    "    pass\n",
    "\n",
    "try:\n",
    "    num = int(input(\"숫자를 입력하세요: \"))\n",
    "    # 음수일 때 예외 발생\n",
    "    if num < 0: \n",
    "        raise NegativeNumberError\n",
    "    print(f\"입력한 숫자: {num}\")\n",
    "except NegativeNumberError: \n",
    "    print(\"양수를 입력해주세요.\")"
   ]
  },
  {
   "cell_type": "markdown",
   "metadata": {},
   "source": [
    "---"
   ]
  },
  {
   "cell_type": "markdown",
   "metadata": {},
   "source": [
    "[문제 5]\n",
    "\n",
    "datetime 모듈을 사용하여 현재 날짜와 시간을 출력하는 프로그램을 작성하세요. \n",
    "\n",
    "또한, 사용자로부터 태어난 년도를 입력받아 현재 나이를 계산하여 출력하세요."
   ]
  },
  {
   "cell_type": "code",
   "execution_count": 14,
   "metadata": {},
   "outputs": [
    {
     "name": "stdout",
     "output_type": "stream",
     "text": [
      "현재 날짜와 시간:  2025년 10월 N일 22시 10분 04초\n",
      "현재 나이: 24\n"
     ]
    }
   ],
   "source": [
    "from datetime import datetime\n",
    "\n",
    "# 현재날짜, 시간 출력\n",
    "now = datetime.now()\n",
    "print(\"현재 날짜와 시간: \", now.strftime(\"%Y년 %M월 %N일 %H시 %M분 %S초\"))\n",
    "\n",
    "# 나이 계산(세는 나이로 계산)\n",
    "birth_year = int(input(\"출생년도 4자리를 입력하세요: \"))\n",
    "age = now.year - birth_year + 1\n",
    "print(f\"현재 나이: {age}\")"
   ]
  },
  {
   "cell_type": "markdown",
   "metadata": {},
   "source": [
    "나이 계산에서 어떻게 계산하지 고민하다가 그냥 저한테 제일 익숙한 방식으로 했어요<br>\n",
    "만 나이로 바뀌기 전 한국식 나이 계산...ㅎㅎ(세는 나이)\n",
    "\n",
    "만 나이로 계산하려면 애매하잖아요..<br>\n",
    "생일 지났으면 \"올해 연도 - 출생연도\"/ 생일 안 지났으면 \"올해 연도 - 출생연도 - 1\"\n",
    "\n",
    "이걸 반영해야한다니 ㄷㄷ"
   ]
  },
  {
   "cell_type": "code",
   "execution_count": null,
   "metadata": {},
   "outputs": [
    {
     "name": "stdout",
     "output_type": "stream",
     "text": [
      "현재 날짜와 시간:  2025년 09월 N일 22시 09분 31초\n",
      "만 나이: 23\n"
     ]
    }
   ],
   "source": [
    "\"\"\"\n",
    "해 보겠습니다... 만 나이 계산\n",
    "\"\"\"\n",
    "from datetime import datetime\n",
    "\n",
    "now = datetime.now()\n",
    "print(\"현재 날짜와 시간: \", now.strftime(\"%Y년 %M월 %N일 %H시 %M분 %S초\"))\n",
    "\n",
    "birth_year = int(input(\"출생년도(yyyy))를 입력하세요: \"))\n",
    "birth_month = int(input(\"출생월(mm)를 입력하세요: \"))\n",
    "birth_day = int(input(\"출생일(dd)를 입력하세요: \"))\n",
    "\n",
    "birthday = datetime(now.year, birth_month, birth_day)\n",
    "\n",
    "# 생일 지났으면\n",
    "if now >= birthday: \n",
    "    age = now.year - birth_year\n",
    "    \n",
    "# 생일 안 지났으면\n",
    "else: \n",
    "    age = now.year - birthday -1\n",
    "\n",
    "print(f\"만 나이: {age}\")"
   ]
  },
  {
   "cell_type": "markdown",
   "metadata": {},
   "source": [
    "---"
   ]
  },
  {
   "cell_type": "markdown",
   "metadata": {},
   "source": [
    "[문제 6]\n",
    "\n",
    "requests 모듈을 사용하여, 웹 페이지의 HTML을 가져오는 간단한 웹 스크레이퍼를 작성하세요.\n",
    "\n",
    "'https://kream.co.kr/'에서<br> \n",
    "데이터를 가져와서 상태 코드와 HTML의 첫 100자를 출력하세요.<br>\n",
    "(실습 전 requests 모듈을 설치해야 함)"
   ]
  },
  {
   "cell_type": "code",
   "execution_count": 2,
   "metadata": {},
   "outputs": [
    {
     "name": "stdout",
     "output_type": "stream",
     "text": [
      "상태코드: 500\n",
      "HTML 내용(첫 100자): <!DOCTYPE html>\n",
      "<html lang=\"ko\">\n",
      "<head>\n",
      "<meta name=\"robots\" content=\"noindex, nofollow\" />\n",
      "<meta htt\n"
     ]
    }
   ],
   "source": [
    "import requests\n",
    "\n",
    "response = requests.get('https://kream.co.kr')\n",
    "print(\"상태코드:\", response.status_code)\n",
    "print(\"HTML 내용(첫 100자):\", response.text[:100])"
   ]
  },
  {
   "cell_type": "markdown",
   "metadata": {},
   "source": [
    "막혔네요..\n",
    "그럼 위장을 해보겟슴니다."
   ]
  },
  {
   "cell_type": "code",
   "execution_count": 3,
   "metadata": {},
   "outputs": [
    {
     "name": "stdout",
     "output_type": "stream",
     "text": [
      "상태코드: 500\n",
      "HTML 내용(첫 100자): <!DOCTYPE html>\n",
      "<html lang=\"ko\">\n",
      "<head>\n",
      "<meta name=\"robots\" content=\"noindex, nofollow\" />\n",
      "<meta htt\n"
     ]
    }
   ],
   "source": [
    "import requests\n",
    "\n",
    "# 슈슉.슉.슈슉.피햇지롱\n",
    "headers = {\n",
    "    'User-Agent': 'Mozilla/5.0 (Windows NT 10.0; Win64; x64) AppleWebKit/537.36 (KHTML, like Gecko) Chrome/91.0.4472.124 Safari/537.36'\n",
    "}\n",
    "\n",
    "response = requests.get('https://kream.co.kr', headers=headers)\n",
    "\n",
    "print(\"상태코드:\", response.status_code)\n",
    "print(\"HTML 내용(첫 100자):\", response.text[:100])"
   ]
  },
  {
   "cell_type": "markdown",
   "metadata": {},
   "source": [
    "엥.. 분명 강사님께서 브라우저로 위장하면 된다고 하셧는데!\n",
    "User-Agent..! 요원 교육 다시 시켜야겠는걸요ㅠ\n",
    "\n",
    "일단 첫 글자 100자는 나왔으니 넘어가겠습니다 ㅠㅠ"
   ]
  },
  {
   "cell_type": "markdown",
   "metadata": {},
   "source": [
    "---"
   ]
  },
  {
   "cell_type": "markdown",
   "metadata": {},
   "source": [
    "[문제 7]\n",
    "\n",
    "함수 실행 시간을 측정하는 데코레이터 timer_decorator를 작성하세요. \n",
    "\n",
    "임의의 함수가 실행되는 시간을 측정하여 \"함수 실행 시간: x.xx초\" 형태로 출력하세요."
   ]
  },
  {
   "cell_type": "code",
   "execution_count": 9,
   "metadata": {},
   "outputs": [
    {
     "name": "stdout",
     "output_type": "stream",
     "text": [
      "함수 실행 시간: 0.04초\n"
     ]
    }
   ],
   "source": [
    "import time\n",
    "\n",
    "def timer_decorator(func): \n",
    "    def wrapper(*args, **kwargs): \n",
    "        \n",
    "        # 함수 실행 시작 시간\n",
    "        start_time = time.time()\n",
    "        \n",
    "        # func 실행 결과를 저장\n",
    "        result = func(*args, **kwargs)\n",
    "        \n",
    "        # 함수 실행 종료 시간\n",
    "        end_time = time.time()\n",
    "        \n",
    "        # 함수가 실행된 시간\n",
    "        print(f\"함수 실행 시간: {end_time - start_time:.2f}초\") # x.xx초\n",
    "        return result\n",
    "    return wrapper\n",
    "\n",
    "@timer_decorator\n",
    "def test_func(): \n",
    "    for i in range(1000000):\n",
    "        pass\n",
    "\n",
    "test_func()"
   ]
  },
  {
   "cell_type": "markdown",
   "metadata": {},
   "source": [
    "---"
   ]
  },
  {
   "cell_type": "markdown",
   "metadata": {},
   "source": [
    "[문제 8]\n",
    "\n",
    "여러분이 자주 사용하는 수학적 연산<br>\n",
    "(예: 삼각형 넓이, 원의 넓이, 직육면체의 넓이)을 수행하는 함수들을 포함하는 mymath.py라는 이름의 모듈을 만드세요. \n",
    "\n",
    "이 모듈을 사용하여 작성된 함수들을 실제로 임포트하고 사용하는 간단한 프로그램을 작성하세요."
   ]
  },
  {
   "cell_type": "code",
   "execution_count": 15,
   "metadata": {},
   "outputs": [],
   "source": [
    "# mymath.py 파일 생성(했다치고)\n",
    "import math\n",
    "\n",
    "# 삼각형 넓이\n",
    "def area_triangle(base, height): # 밑변, 높이\n",
    "    return base * height / 2\n",
    "\n",
    "# 원 넓이\n",
    "def area_circle(r): # 반지름\n",
    "    return math.pi * r**2\n",
    "\n",
    "# 직육면체 겉넓이\n",
    "def area_box(l, w, h): # 가로(length), 세로(width), 높이(height)\n",
    "    return 2 * (l*w + w*h + l*h)"
   ]
  },
  {
   "cell_type": "code",
   "execution_count": 18,
   "metadata": {},
   "outputs": [
    {
     "name": "stdout",
     "output_type": "stream",
     "text": [
      "삼각형의 넓이: 10.0\n",
      "원의 넓이: 12.566370614359172\n",
      "직육면체 겉넓이: 350\n"
     ]
    }
   ],
   "source": [
    "\"\"\"\n",
    "# 실행 코드\n",
    "from mymath import area_triangle, area_circle, area_box\n",
    "\"\"\"\n",
    "# 삼각형 넓이\n",
    "area_t = area_triangle(2, 10)\n",
    "print(\"삼각형의 넓이:\", area_t)\n",
    "\n",
    "# 원 넓이\n",
    "area_c = area_circle(2)\n",
    "print(\"원의 넓이:\", area_c)\n",
    "\n",
    "# 직육면체 겉넓이\n",
    "area_b = area_box(5, 5, 15)\n",
    "print(\"직육면체 겉넓이:\", area_b)"
   ]
  },
  {
   "cell_type": "markdown",
   "metadata": {},
   "source": [
    "---"
   ]
  },
  {
   "cell_type": "markdown",
   "metadata": {},
   "source": [
    "[문제 9]\n",
    "\n",
    "animals라는 패키지를 만들고, 이 패키지 내에 mammals, birds라는 두 개의 서브 모듈을 생성하세요. \n",
    "\n",
    "- 각 모듈에는 최소한 한 개 이상의 동물에 관한 클래스를 정의하세요<br>\n",
    "  (예: mammals에는 Dog, birds에는 Eagle)\n",
    "- 이 패키지와 모듈을 사용하여 동물들의 정보를 출력하는 프로그램을 작성\n",
    "\n",
    "폴더 및 파일 구조\n",
    "```\n",
    "animals/(폴더)\n",
    "├── __init__.py\n",
    "├── mammals.py\n",
    "└── birds.py\n",
    "```\n"
   ]
  },
  {
   "cell_type": "code",
   "execution_count": 23,
   "metadata": {},
   "outputs": [],
   "source": [
    "# mammals.py\n",
    "class Dog: \n",
    "    def info(self): \n",
    "        return  \"Dog: 개\""
   ]
  },
  {
   "cell_type": "code",
   "execution_count": 24,
   "metadata": {},
   "outputs": [],
   "source": [
    "class Eagle: \n",
    "    def info(self): \n",
    "        return \"Eagle: 새(독수리)\""
   ]
  },
  {
   "cell_type": "code",
   "execution_count": 26,
   "metadata": {},
   "outputs": [
    {
     "name": "stdout",
     "output_type": "stream",
     "text": [
      "Dog: 개\n",
      "Eagle: 새(독수리)\n"
     ]
    }
   ],
   "source": [
    "\"\"\"\n",
    "# 실행\n",
    "from animals.mammals import Dog\n",
    "from animals.birds import Eagle\n",
    "\"\"\"\n",
    "\n",
    "print(Dog().info())\n",
    "print(Eagle().info())"
   ]
  },
  {
   "cell_type": "markdown",
   "metadata": {},
   "source": [
    "---"
   ]
  }
 ],
 "metadata": {
  "kernelspec": {
   "display_name": "tasks (3.13.7)",
   "language": "python",
   "name": "python3"
  },
  "language_info": {
   "codemirror_mode": {
    "name": "ipython",
    "version": 3
   },
   "file_extension": ".py",
   "mimetype": "text/x-python",
   "name": "python",
   "nbconvert_exporter": "python",
   "pygments_lexer": "ipython3",
   "version": "3.13.7"
  }
 },
 "nbformat": 4,
 "nbformat_minor": 2
}
