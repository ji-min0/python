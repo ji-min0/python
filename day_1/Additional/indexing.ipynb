{
 "cells": [
  {
   "cell_type": "markdown",
   "id": "ec79ad8f",
   "metadata": {},
   "source": [
    "## 퀴즈"
   ]
  },
  {
   "cell_type": "markdown",
   "id": "a02203f1",
   "metadata": {},
   "source": [
    "### 🔢 인덱싱 문제\n",
    "#### 문제 1"
   ]
  },
  {
   "cell_type": "code",
   "execution_count": null,
   "id": "ada0a571",
   "metadata": {},
   "outputs": [],
   "source": [
    "word = \"Python\"\n",
    "# 예상 결과: h\n",
    "# 예상 결과: n\n",
    "\n",
    "# 여기에 코드 작성\n",
    "\n",
    "print(3) #h\n",
    "print(5) #n"
   ]
  },
  {
   "cell_type": "markdown",
   "id": "4b5666c9",
   "metadata": {},
   "source": [
    "#### 문제 2"
   ]
  },
  {
   "cell_type": "code",
   "execution_count": null,
   "id": "1ead83be",
   "metadata": {},
   "outputs": [],
   "source": [
    "numbers = [10, 20, 30, 40, 50]\n",
    "# 예상 결과: 30\n",
    "# 예상 결과: 10\n",
    "\n",
    "# 여기에 코드 작성\n",
    "\n",
    "print(numbers[2]) #30\n",
    "print(numbers[0]) #10"
   ]
  },
  {
   "cell_type": "markdown",
   "id": "4d1fa35e",
   "metadata": {},
   "source": [
    "#### 문제 3"
   ]
  },
  {
   "cell_type": "code",
   "execution_count": null,
   "id": "9287029a",
   "metadata": {},
   "outputs": [],
   "source": [
    "text = \"Python\"\n",
    "# 예상 결과: Pyt\n",
    "# 예상 결과: thon\n",
    "\n",
    "\n",
    "# 여기에 코드 작성\n",
    "print(text[:3]) #Pyt\n",
    "print(text[2:]) #thon"
   ]
  },
  {
   "cell_type": "markdown",
   "id": "a1d895da",
   "metadata": {},
   "source": [
    "#### 문제 4"
   ]
  },
  {
   "cell_type": "code",
   "execution_count": null,
   "id": "88ed6eeb",
   "metadata": {},
   "outputs": [],
   "source": [
    "data = [10, 20, 30, 40, 50]\n",
    "# 예상 결과: [20, 30, 40]\n",
    "# 예상 결과: [50, 40, 30, 20, 10]\n",
    "\n",
    "# 여기에 코드 작성\n",
    "print(data[1:4]) # [20, 30, 40]\n",
    "print(data[::-1]) # [50, 40, 30, 20, 10]"
   ]
  }
 ],
 "metadata": {
  "kernelspec": {
   "display_name": "Python 3",
   "language": "python",
   "name": "python3"
  },
  "language_info": {
   "codemirror_mode": {
    "name": "ipython",
    "version": 3
   },
   "file_extension": ".py",
   "mimetype": "text/x-python",
   "name": "python",
   "nbconvert_exporter": "python",
   "pygments_lexer": "ipython3",
   "version": "3.9.6"
  }
 },
 "nbformat": 4,
 "nbformat_minor": 5
}
